{
 "cells": [
  {
   "cell_type": "code",
   "execution_count": 1,
   "metadata": {},
   "outputs": [],
   "source": [
    "%load_ext autoreload\n",
    "%autoreload 2\n",
    "%matplotlib notebook"
   ]
  },
  {
   "cell_type": "code",
   "execution_count": 2,
   "metadata": {},
   "outputs": [],
   "source": [
    "import numpy as np\n",
    "import matplotlib.pyplot as plt\n",
    "from cpyment import CModel\n",
    "from SEIR_x_UD import seirxud_abm_gill, SEIRxUD"
   ]
  },
  {
   "cell_type": "code",
   "execution_count": 3,
   "metadata": {},
   "outputs": [
    {
     "name": "stdout",
     "output_type": "stream",
     "text": [
      "R0 = 4.551820728291316\n"
     ]
    }
   ],
   "source": [
    "N = 1000\n",
    "I0 = 0.01\n",
    "c = 13\n",
    "beta = 0.025\n",
    "alpha = 0.2\n",
    "gamma = 0.0714\n",
    "theta = 0.1\n",
    "kappa = 0.03\n",
    "eta = 0.75\n",
    "chi = 0.25\n",
    "\n",
    "R0 = beta*c/gamma\n",
    "print('R0 = {0}'.format(R0))"
   ]
  },
  {
   "cell_type": "code",
   "execution_count": 4,
   "metadata": {
    "scrolled": false
   },
   "outputs": [
    {
     "name": "stdout",
     "output_type": "stream",
     "text": [
      "1/10\n"
     ]
    },
    {
     "ename": "TypeError",
     "evalue": "too many arguments: expected 11, got 12",
     "output_type": "error",
     "traceback": [
      "\u001b[0;31m---------------------------------------------------------------------------\u001b[0m",
      "\u001b[0;31mTypeError\u001b[0m                                 Traceback (most recent call last)",
      "\u001b[0;32m<ipython-input-4-18b21a012395>\u001b[0m in \u001b[0;36m<module>\u001b[0;34m\u001b[0m\n\u001b[1;32m     14\u001b[0m \u001b[0mmodel\u001b[0m \u001b[0;34m=\u001b[0m \u001b[0mSEIRxUD\u001b[0m\u001b[0;34m(\u001b[0m\u001b[0mN\u001b[0m\u001b[0;34m=\u001b[0m\u001b[0mN\u001b[0m\u001b[0;34m,\u001b[0m \u001b[0mtmax\u001b[0m\u001b[0;34m=\u001b[0m\u001b[0mtmax\u001b[0m\u001b[0;34m,\u001b[0m \u001b[0mI0\u001b[0m\u001b[0;34m=\u001b[0m\u001b[0mI0\u001b[0m\u001b[0;34m,\u001b[0m \u001b[0mparams\u001b[0m\u001b[0;34m=\u001b[0m\u001b[0mparams\u001b[0m\u001b[0;34m)\u001b[0m\u001b[0;34m\u001b[0m\u001b[0;34m\u001b[0m\u001b[0m\n\u001b[1;32m     15\u001b[0m \u001b[0;34m\u001b[0m\u001b[0m\n\u001b[0;32m---> 16\u001b[0;31m \u001b[0mtrajsGill\u001b[0m \u001b[0;34m=\u001b[0m \u001b[0mmodel\u001b[0m\u001b[0;34m.\u001b[0m\u001b[0mrun_abm\u001b[0m\u001b[0;34m(\u001b[0m\u001b[0;34m)\u001b[0m\u001b[0;34m\u001b[0m\u001b[0;34m\u001b[0m\u001b[0m\n\u001b[0m\u001b[1;32m     17\u001b[0m \u001b[0;34m\u001b[0m\u001b[0m\n\u001b[1;32m     18\u001b[0m \u001b[0mtrajsGillAvg\u001b[0m \u001b[0;34m=\u001b[0m \u001b[0mnp\u001b[0m\u001b[0;34m.\u001b[0m\u001b[0maverage\u001b[0m\u001b[0;34m(\u001b[0m\u001b[0mtrajsGill\u001b[0m\u001b[0;34m,\u001b[0m \u001b[0maxis\u001b[0m\u001b[0;34m=\u001b[0m\u001b[0;36m0\u001b[0m\u001b[0;34m)\u001b[0m\u001b[0;34m\u001b[0m\u001b[0;34m\u001b[0m\u001b[0m\n",
      "\u001b[0;32m~/Local/epi/PTTI/SEIRT/SEIR_x_UD.py\u001b[0m in \u001b[0;36mrun_abm\u001b[0;34m(self, samples)\u001b[0m\n\u001b[1;32m    187\u001b[0m         \u001b[0;32mfor\u001b[0m \u001b[0mi\u001b[0m \u001b[0;32min\u001b[0m \u001b[0mrange\u001b[0m\u001b[0;34m(\u001b[0m\u001b[0msamples\u001b[0m\u001b[0;34m)\u001b[0m\u001b[0;34m:\u001b[0m\u001b[0;34m\u001b[0m\u001b[0;34m\u001b[0m\u001b[0m\n\u001b[1;32m    188\u001b[0m             \u001b[0mprint\u001b[0m\u001b[0;34m(\u001b[0m\u001b[0;34m'{0}/{1}'\u001b[0m\u001b[0;34m.\u001b[0m\u001b[0mformat\u001b[0m\u001b[0;34m(\u001b[0m\u001b[0mi\u001b[0m\u001b[0;34m+\u001b[0m\u001b[0;36m1\u001b[0m\u001b[0;34m,\u001b[0m \u001b[0msamples\u001b[0m\u001b[0;34m)\u001b[0m\u001b[0;34m)\u001b[0m\u001b[0;34m\u001b[0m\u001b[0;34m\u001b[0m\u001b[0m\n\u001b[0;32m--> 189\u001b[0;31m             traj = seirxud_abm_gill(tmax=self.t[-1],\n\u001b[0m\u001b[1;32m    190\u001b[0m                                     \u001b[0mN\u001b[0m\u001b[0;34m=\u001b[0m\u001b[0mself\u001b[0m\u001b[0;34m.\u001b[0m\u001b[0mN\u001b[0m\u001b[0;34m,\u001b[0m\u001b[0;34m\u001b[0m\u001b[0;34m\u001b[0m\u001b[0m\n\u001b[1;32m    191\u001b[0m                                     \u001b[0mI0\u001b[0m\u001b[0;34m=\u001b[0m\u001b[0mint\u001b[0m\u001b[0;34m(\u001b[0m\u001b[0mself\u001b[0m\u001b[0;34m.\u001b[0m\u001b[0mN\u001b[0m\u001b[0;34m*\u001b[0m\u001b[0mself\u001b[0m\u001b[0;34m.\u001b[0m\u001b[0mI0\u001b[0m\u001b[0;34m)\u001b[0m\u001b[0;34m,\u001b[0m\u001b[0;34m\u001b[0m\u001b[0;34m\u001b[0m\u001b[0m\n",
      "\u001b[0;31mTypeError\u001b[0m: too many arguments: expected 11, got 12"
     ]
    }
   ],
   "source": [
    "tmax = 300\n",
    "\n",
    "params = {\n",
    "    'c': c,\n",
    "    'beta': beta,\n",
    "    'alpha': alpha,\n",
    "    'gamma': gamma,\n",
    "    'theta': theta,\n",
    "    'kappa': kappa,\n",
    "    'eta': eta,\n",
    "    'chi': chi\n",
    "}\n",
    "\n",
    "model = SEIRxUD(N=N, tmax=tmax, I0=I0, **params)\n",
    "\n",
    "trajsGill = model.run_abm()\n",
    "\n",
    "trajsGillAvg = np.average(trajsGill, axis=0)\n",
    "trajsGillStd = np.std(trajsGill, axis=0)"
   ]
  },
  {
   "cell_type": "code",
   "execution_count": null,
   "metadata": {},
   "outputs": [],
   "source": [
    "t0i = 0\n",
    "delay = model.t[t0i]\n",
    "\n",
    "traj = model.run_cmodel(t0=delay, y0=trajsGillAvg[:,t0i], etadamp=1)\n",
    "trajNoCT = model.run_cmodel(etadamp=0)"
   ]
  },
  {
   "cell_type": "code",
   "execution_count": null,
   "metadata": {
    "scrolled": false
   },
   "outputs": [],
   "source": [
    "fig, ax = plt.subplots()\n",
    "t = model.t.copy()\n",
    "\n",
    "colors = {\n",
    "    'S': np.array((0.0, 0.5, 1.0)),\n",
    "    'E': np.array((1.0, 0.6, 0.0)),\n",
    "    'I': np.array((1.0, 0.2, 0.1)),\n",
    "    'R': np.array((0.0, 0.7, 0.4)),\n",
    "}\n",
    "\n",
    "\n",
    "\n",
    "#ax.set_xlim(0,t[10])\n",
    "#ax.set_ylim(-1, 15)\n",
    "stdn = 1\n",
    "\n",
    "for i, s in enumerate('SEIR'):\n",
    "    for j, d in enumerate('UD'):\n",
    "        col = colors[s]*(1 if j == 0 else 0.5)\n",
    "        ax.plot(t[t0i:], traj['y'][:,2*i+j], c=col, label=s+d, lw=2.0)\n",
    "        ax.plot(t, trajNoCT['y'][:,2*i+j], c=col, lw=2.0, ls='--')\n",
    "        ax.plot(t, trajsGillAvg[2*i+j], c=col, lw=0.7)\n",
    "        ax.fill_between(t, \n",
    "                        trajsGillAvg[2*i+j]+stdn*trajsGillStd[2*i+j], \n",
    "                        trajsGillAvg[2*i+j]-stdn*trajsGillStd[2*i+j], \n",
    "                        color=list(col) + [0.3])\n",
    "    \n",
    "ax.axhline((1-1/R0)*N, c=(0,0,0), lw=0.5, ls='--')\n",
    "ax.legend()"
   ]
  },
  {
   "cell_type": "code",
   "execution_count": null,
   "metadata": {},
   "outputs": [],
   "source": [
    "# Total fraction of diagnosed people\n",
    "\n",
    "fig, ax = plt.subplots()\n",
    "\n",
    "ax.set_title('Percentage of diagnosed people')\n",
    "\n",
    "ax.set_xlabel('t')\n",
    "ax.set_ylabel('*D (%)')\n",
    "\n",
    "ax.plot(t[t0i:], np.sum(traj['y'][:,1::2], axis=1)*100/N, label='ODE')\n",
    "ax.plot(t, np.sum(trajsGillAvg[1::2], axis=0)*100/N, label='ABM')\n",
    "\n",
    "ax.legend()"
   ]
  },
  {
   "cell_type": "code",
   "execution_count": null,
   "metadata": {},
   "outputs": [],
   "source": [
    "from scipy.integrate import odeint"
   ]
  },
  {
   "cell_type": "code",
   "execution_count": null,
   "metadata": {},
   "outputs": [],
   "source": [
    "# Nonlinear version\n",
    "def ode_nonlin(y, t, N=1000,\n",
    "                     beta=0.05,\n",
    "                     alpha=0.2,\n",
    "                     gamma=0.1,\n",
    "                     theta=0.0,\n",
    "                     kappa=0.05,\n",
    "                     eta=0,\n",
    "                     chi=0):\n",
    "    dydt = y*0\n",
    "    SU, SD, EU, ED, IU, ID, RU, RD = y\n",
    "    \n",
    "    pCI = 1-(1-theta*IU/N)**(c/gamma)\n",
    "    dSUEU = beta*c/N*SU*IU\n",
    "    dSUSD = chi*eta*(1-beta)*pCI*SU\n",
    "    dSDSU = kappa*SD\n",
    "    dEUIU = alpha*EU\n",
    "    dEUED = eta*chi*theta*EU\n",
    "    dEDID = alpha*ED\n",
    "    dIUID = theta*(1+eta*chi)*IU\n",
    "    dIURU = gamma*IU\n",
    "    dIDRD = gamma*ID\n",
    "    dRURD = chi*eta*pCI*RU\n",
    "    dRDRU = kappa*RD\n",
    "    \n",
    "    dydt[0] = -dSUEU-dSUSD + dSDSU\n",
    "    dydt[1] = dSUSD-dSDSU\n",
    "    dydt[2] = dSUEU-dEUIU-dEUED\n",
    "    dydt[3] = dEUED-dEDID\n",
    "    dydt[4] = dEUIU-dIUID-dIURU\n",
    "    dydt[5] = dEDID+dIUID-dIDRD\n",
    "    dydt[6] = dIURU-dRURD+dRDRU\n",
    "    dydt[7] = dIDRD-dRDRU+dRURD\n",
    "    \n",
    "    return dydt"
   ]
  },
  {
   "cell_type": "code",
   "execution_count": null,
   "metadata": {},
   "outputs": [],
   "source": [
    "y0 = np.zeros(8)\n",
    "y0[0] = N*(1-I0)\n",
    "y0[4] = N*I0\n",
    "sol = odeint(ode_nonlin, y0, model.t, args=(N, beta, alpha, gamma, theta, kappa, eta, chi))"
   ]
  },
  {
   "cell_type": "code",
   "execution_count": null,
   "metadata": {},
   "outputs": [],
   "source": [
    "fig, ax = plt.subplots()\n",
    "\n",
    "ax.plot(model.t, sol)\n",
    "ax.plot(model.t, traj['y'])"
   ]
  },
  {
   "cell_type": "code",
   "execution_count": null,
   "metadata": {},
   "outputs": [],
   "source": []
  }
 ],
 "metadata": {
  "kernelspec": {
   "display_name": "Python 3",
   "language": "python",
   "name": "python3"
  },
  "language_info": {
   "codemirror_mode": {
    "name": "ipython",
    "version": 3
   },
   "file_extension": ".py",
   "mimetype": "text/x-python",
   "name": "python",
   "nbconvert_exporter": "python",
   "pygments_lexer": "ipython3",
   "version": "3.8.2"
  }
 },
 "nbformat": 4,
 "nbformat_minor": 4
}
