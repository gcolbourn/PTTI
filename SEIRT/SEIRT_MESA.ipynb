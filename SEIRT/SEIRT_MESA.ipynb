{
 "cells": [
  {
   "cell_type": "code",
   "execution_count": 4,
   "metadata": {},
   "outputs": [
    {
     "name": "stdout",
     "output_type": "stream",
     "text": [
      "The autoreload extension is already loaded. To reload it, use:\n",
      "  %reload_ext autoreload\n"
     ]
    }
   ],
   "source": [
    "%load_ext autoreload\n",
    "%autoreload 2\n",
    "%matplotlib notebook"
   ]
  },
  {
   "cell_type": "code",
   "execution_count": 5,
   "metadata": {},
   "outputs": [],
   "source": [
    "import numpy as np\n",
    "import matplotlib.pyplot as plt\n",
    "from seirt_mesa import SEIRTModel\n",
    "from cpyment import CModel"
   ]
  },
  {
   "cell_type": "code",
   "execution_count": 6,
   "metadata": {},
   "outputs": [],
   "source": [
    "N = 4000\n",
    "I0 = 0.01\n",
    "beta = 0.4\n",
    "gamma = 0.1\n",
    "delta = 0.1\n",
    "theta = 0.1\n",
    "kappa = 0.03\n",
    "eta = 1\n",
    "\n",
    "m = SEIRTModel(N, I0=I0, beta=beta, gamma=gamma, delta=delta, theta=theta, kappa=kappa, \n",
    "               eta = 0, dt=0.05)"
   ]
  },
  {
   "cell_type": "code",
   "execution_count": 7,
   "metadata": {},
   "outputs": [],
   "source": [
    "# Compartment version\n",
    "cm = CModel('SEIRT')\n",
    "\n",
    "cm.set_coupling_rate('S*I:S=>E', beta/N)\n",
    "cm.set_coupling_rate('E:E=>I', gamma)\n",
    "cm.set_coupling_rate('E:E=>T', eta*theta)\n",
    "cm.set_coupling_rate('I:I=>R', delta)\n",
    "cm.set_coupling_rate('I:I=>T', theta*(1+eta))\n",
    "cm.set_coupling_rate('T:T=>R', kappa)\n",
    "\n",
    "cmNoCT = CModel('SEIRT')\n",
    "\n",
    "cmNoCT.set_coupling_rate('S*I:S=>E', beta/N)\n",
    "cmNoCT.set_coupling_rate('E:E=>I', gamma)\n",
    "cmNoCT.set_coupling_rate('I:I=>R', delta)\n",
    "cmNoCT.set_coupling_rate('I:I=>T', theta)\n",
    "cmNoCT.set_coupling_rate('T:T=>R', kappa)"
   ]
  },
  {
   "cell_type": "code",
   "execution_count": null,
   "metadata": {},
   "outputs": [],
   "source": [
    "steps = 2000\n",
    "for i in range(steps):\n",
    "    m.step()"
   ]
  },
  {
   "cell_type": "code",
   "execution_count": null,
   "metadata": {},
   "outputs": [],
   "source": [
    "t = m.dt*np.arange(steps)\n",
    "y0 = np.array([N*(1-I0), 0, N*I0, 0, 0])\n",
    "\n",
    "traj = cm.integrate(t, y0)\n",
    "trajNoCT = cmNoCT.integrate(t, y0)"
   ]
  },
  {
   "cell_type": "code",
   "execution_count": null,
   "metadata": {},
   "outputs": [],
   "source": [
    "df = m.datacollector.get_model_vars_dataframe()"
   ]
  },
  {
   "cell_type": "code",
   "execution_count": null,
   "metadata": {},
   "outputs": [],
   "source": [
    "fig, ax = plt.subplots()\n",
    "\n",
    "colors = [\n",
    "    (0.0, 0.5, 1.0),\n",
    "    (1.0, 0.6, 0.0),\n",
    "    (1.0, 0.2, 0.1),\n",
    "    (0.0, 0.7, 0.4),\n",
    "    (0.8, 0.0, 0.9)\n",
    "]\n",
    "\n",
    "ax.set_ylim(0, 500)\n",
    "for i in range(5):\n",
    "    ax.plot(t, traj['y'][:,i], c=colors[i], label='SEIRT'[i], lw=2.0)\n",
    "    ax.plot(t, trajNoCT['y'][:,i], '--', c=colors[i], lw=2.0)\n",
    "    ax.plot(t, df.values[:,i+1], c=colors[i], lw=0.6)\n",
    "    \n",
    "ax.legend()"
   ]
  },
  {
   "cell_type": "code",
   "execution_count": null,
   "metadata": {},
   "outputs": [],
   "source": []
  }
 ],
 "metadata": {
  "kernelspec": {
   "display_name": "Python 3",
   "language": "python",
   "name": "python3"
  },
  "language_info": {
   "codemirror_mode": {
    "name": "ipython",
    "version": 3
   },
   "file_extension": ".py",
   "mimetype": "text/x-python",
   "name": "python",
   "nbconvert_exporter": "python",
   "pygments_lexer": "ipython3",
   "version": "3.6.10"
  }
 },
 "nbformat": 4,
 "nbformat_minor": 4
}
