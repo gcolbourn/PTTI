{
 "cells": [
  {
   "cell_type": "code",
   "execution_count": 20,
   "metadata": {
    "ExecuteTime": {
     "end_time": "2020-04-22T14:58:28.936095Z",
     "start_time": "2020-04-22T14:58:28.924641Z"
    }
   },
   "outputs": [
    {
     "ename": "ModuleNotFoundError",
     "evalue": "No module named 'seaborn'",
     "output_type": "error",
     "traceback": [
      "\u001b[0;31m---------------------------------------------------------------------------\u001b[0m",
      "\u001b[0;31mModuleNotFoundError\u001b[0m                       Traceback (most recent call last)",
      "\u001b[0;32m<ipython-input-20-93296d6b0c63>\u001b[0m in \u001b[0;36m<module>\u001b[0;34m\u001b[0m\n\u001b[1;32m      1\u001b[0m \u001b[0;32mimport\u001b[0m \u001b[0mnumpy\u001b[0m \u001b[0;32mas\u001b[0m \u001b[0mnp\u001b[0m\u001b[0;34m\u001b[0m\u001b[0;34m\u001b[0m\u001b[0m\n\u001b[1;32m      2\u001b[0m \u001b[0;32mimport\u001b[0m \u001b[0mpandas\u001b[0m \u001b[0;32mas\u001b[0m \u001b[0mpd\u001b[0m\u001b[0;34m\u001b[0m\u001b[0;34m\u001b[0m\u001b[0m\n\u001b[0;32m----> 3\u001b[0;31m \u001b[0;32mimport\u001b[0m \u001b[0mseaborn\u001b[0m \u001b[0;32mas\u001b[0m \u001b[0msns\u001b[0m\u001b[0;34m\u001b[0m\u001b[0;34m\u001b[0m\u001b[0m\n\u001b[0m\u001b[1;32m      4\u001b[0m \u001b[0;32mimport\u001b[0m \u001b[0mgspread\u001b[0m\u001b[0;34m\u001b[0m\u001b[0;34m\u001b[0m\u001b[0m\n\u001b[1;32m      5\u001b[0m \u001b[0;32mimport\u001b[0m \u001b[0mdf2gspread\u001b[0m \u001b[0;32mas\u001b[0m \u001b[0md2g\u001b[0m\u001b[0;34m\u001b[0m\u001b[0;34m\u001b[0m\u001b[0m\n",
      "\u001b[0;31mModuleNotFoundError\u001b[0m: No module named 'seaborn'"
     ]
    }
   ],
   "source": [
    "import numpy as np\n",
    "import pandas as pd\n",
    "import seaborn as sns\n",
    "import gspread\n",
    "import df2gspread as d2g\n",
    "from IPython.display import HTML"
   ]
  },
  {
   "cell_type": "code",
   "execution_count": 38,
   "metadata": {
    "ExecuteTime": {
     "end_time": "2020-04-22T15:42:32.675227Z",
     "start_time": "2020-04-22T15:42:32.658377Z"
    }
   },
   "outputs": [],
   "source": [
    "data = {' ':  ['Scenario','IL','ILHI', 'PTTI-1', 'PTTI-2', 'PTTI-3'],\n",
    "        'Scenario': [\"ICU cases\", 221669.3935381329, 615925.9839288288, 91401.73440933517, 174294.330165646, 74942.89963201205],\n",
    "        \"IL\": [221669.3935381329, 0, 394256.590390696, -130267.6591287977, -47375.06337248685, -146726.4939061208],\n",
    "        \"ILHI\": [615925.9839288288, -394256.590390696, 0, -524524.2495194937, -441631.6537631828, -540983.0842968168], \n",
    "        \"PTTI-1\": [91401.73440933517, 130267.6591287977, 524524.2495194937, 0, 82892.59575631084, -16458.83477732312],\n",
    "        \"PTTI-2\": [174294.330165646, 47375.06337248685, 441631.6537631828, -82892.59575631084, 0, -99351.43053363396],\n",
    "        \"PTTI-3\": [74942.89963201205, 146726.4939061208, 540983.0842968168, 16458.83477732312, 99351.43053363396,0]\n",
    "       };\n",
    "df = pd.DataFrame (data, columns = [' ','Scenario','IL','ILHI'])\n"
   ]
  },
  {
   "cell_type": "code",
   "execution_count": 24,
   "metadata": {
    "ExecuteTime": {
     "end_time": "2020-04-22T15:18:41.823630Z",
     "start_time": "2020-04-22T15:18:41.820696Z"
    }
   },
   "outputs": [],
   "source": [
    "def color_negative_red(value):\n",
    "  \"\"\"\n",
    "  Colors elements in a dateframe\n",
    "  green if positive and red if\n",
    "  negative. Does not color NaN\n",
    "  values.\n",
    "  \"\"\"\n",
    "\n",
    "  if value < 0:\n",
    "    color = 'red'\n",
    "  elif value > 0:\n",
    "    color = 'green'\n",
    "  else:\n",
    "    color = 'black'\n",
    "\n",
    "  return 'color: %s' % color"
   ]
  },
  {
   "cell_type": "code",
   "execution_count": 39,
   "metadata": {
    "ExecuteTime": {
     "end_time": "2020-04-22T15:42:44.122963Z",
     "start_time": "2020-04-22T15:42:44.098627Z"
    }
   },
   "outputs": [
    {
     "data": {
      "text/html": [
       "<style  type=\"text/css\" >\n",
       "    #T_e863264a_84af_11ea_b8b0_ac87a3062decrow0_col2 {\n",
       "            color:  green;\n",
       "        }    #T_e863264a_84af_11ea_b8b0_ac87a3062decrow0_col3 {\n",
       "            color:  green;\n",
       "        }    #T_e863264a_84af_11ea_b8b0_ac87a3062decrow1_col2 {\n",
       "            color:  black;\n",
       "        }    #T_e863264a_84af_11ea_b8b0_ac87a3062decrow1_col3 {\n",
       "            color:  red;\n",
       "        }    #T_e863264a_84af_11ea_b8b0_ac87a3062decrow2_col2 {\n",
       "            color:  green;\n",
       "        }    #T_e863264a_84af_11ea_b8b0_ac87a3062decrow2_col3 {\n",
       "            color:  black;\n",
       "        }    #T_e863264a_84af_11ea_b8b0_ac87a3062decrow3_col2 {\n",
       "            color:  red;\n",
       "        }    #T_e863264a_84af_11ea_b8b0_ac87a3062decrow3_col3 {\n",
       "            color:  red;\n",
       "        }    #T_e863264a_84af_11ea_b8b0_ac87a3062decrow4_col2 {\n",
       "            color:  red;\n",
       "        }    #T_e863264a_84af_11ea_b8b0_ac87a3062decrow4_col3 {\n",
       "            color:  red;\n",
       "        }    #T_e863264a_84af_11ea_b8b0_ac87a3062decrow5_col2 {\n",
       "            color:  red;\n",
       "        }    #T_e863264a_84af_11ea_b8b0_ac87a3062decrow5_col3 {\n",
       "            color:  red;\n",
       "        }</style><table id=\"T_e863264a_84af_11ea_b8b0_ac87a3062dec\" ><thead>    <tr>        <th class=\"blank level0\" ></th>        <th class=\"col_heading level0 col0\" > </th>        <th class=\"col_heading level0 col1\" >Scenario</th>        <th class=\"col_heading level0 col2\" >IL</th>        <th class=\"col_heading level0 col3\" >ILHI</th>    </tr></thead><tbody>\n",
       "                <tr>\n",
       "                        <th id=\"T_e863264a_84af_11ea_b8b0_ac87a3062declevel0_row0\" class=\"row_heading level0 row0\" >0</th>\n",
       "                        <td id=\"T_e863264a_84af_11ea_b8b0_ac87a3062decrow0_col0\" class=\"data row0 col0\" >Scenario</td>\n",
       "                        <td id=\"T_e863264a_84af_11ea_b8b0_ac87a3062decrow0_col1\" class=\"data row0 col1\" >ICU cases</td>\n",
       "                        <td id=\"T_e863264a_84af_11ea_b8b0_ac87a3062decrow0_col2\" class=\"data row0 col2\" >221669.393538</td>\n",
       "                        <td id=\"T_e863264a_84af_11ea_b8b0_ac87a3062decrow0_col3\" class=\"data row0 col3\" >615925.983929</td>\n",
       "            </tr>\n",
       "            <tr>\n",
       "                        <th id=\"T_e863264a_84af_11ea_b8b0_ac87a3062declevel0_row1\" class=\"row_heading level0 row1\" >1</th>\n",
       "                        <td id=\"T_e863264a_84af_11ea_b8b0_ac87a3062decrow1_col0\" class=\"data row1 col0\" >IL</td>\n",
       "                        <td id=\"T_e863264a_84af_11ea_b8b0_ac87a3062decrow1_col1\" class=\"data row1 col1\" >221669.393538</td>\n",
       "                        <td id=\"T_e863264a_84af_11ea_b8b0_ac87a3062decrow1_col2\" class=\"data row1 col2\" >0.000000</td>\n",
       "                        <td id=\"T_e863264a_84af_11ea_b8b0_ac87a3062decrow1_col3\" class=\"data row1 col3\" >-394256.590391</td>\n",
       "            </tr>\n",
       "            <tr>\n",
       "                        <th id=\"T_e863264a_84af_11ea_b8b0_ac87a3062declevel0_row2\" class=\"row_heading level0 row2\" >2</th>\n",
       "                        <td id=\"T_e863264a_84af_11ea_b8b0_ac87a3062decrow2_col0\" class=\"data row2 col0\" >ILHI</td>\n",
       "                        <td id=\"T_e863264a_84af_11ea_b8b0_ac87a3062decrow2_col1\" class=\"data row2 col1\" >615925.983929</td>\n",
       "                        <td id=\"T_e863264a_84af_11ea_b8b0_ac87a3062decrow2_col2\" class=\"data row2 col2\" >394256.590391</td>\n",
       "                        <td id=\"T_e863264a_84af_11ea_b8b0_ac87a3062decrow2_col3\" class=\"data row2 col3\" >0.000000</td>\n",
       "            </tr>\n",
       "            <tr>\n",
       "                        <th id=\"T_e863264a_84af_11ea_b8b0_ac87a3062declevel0_row3\" class=\"row_heading level0 row3\" >3</th>\n",
       "                        <td id=\"T_e863264a_84af_11ea_b8b0_ac87a3062decrow3_col0\" class=\"data row3 col0\" >PTTI-1</td>\n",
       "                        <td id=\"T_e863264a_84af_11ea_b8b0_ac87a3062decrow3_col1\" class=\"data row3 col1\" >91401.734409</td>\n",
       "                        <td id=\"T_e863264a_84af_11ea_b8b0_ac87a3062decrow3_col2\" class=\"data row3 col2\" >-130267.659129</td>\n",
       "                        <td id=\"T_e863264a_84af_11ea_b8b0_ac87a3062decrow3_col3\" class=\"data row3 col3\" >-524524.249519</td>\n",
       "            </tr>\n",
       "            <tr>\n",
       "                        <th id=\"T_e863264a_84af_11ea_b8b0_ac87a3062declevel0_row4\" class=\"row_heading level0 row4\" >4</th>\n",
       "                        <td id=\"T_e863264a_84af_11ea_b8b0_ac87a3062decrow4_col0\" class=\"data row4 col0\" >PTTI-2</td>\n",
       "                        <td id=\"T_e863264a_84af_11ea_b8b0_ac87a3062decrow4_col1\" class=\"data row4 col1\" >174294.330166</td>\n",
       "                        <td id=\"T_e863264a_84af_11ea_b8b0_ac87a3062decrow4_col2\" class=\"data row4 col2\" >-47375.063372</td>\n",
       "                        <td id=\"T_e863264a_84af_11ea_b8b0_ac87a3062decrow4_col3\" class=\"data row4 col3\" >-441631.653763</td>\n",
       "            </tr>\n",
       "            <tr>\n",
       "                        <th id=\"T_e863264a_84af_11ea_b8b0_ac87a3062declevel0_row5\" class=\"row_heading level0 row5\" >5</th>\n",
       "                        <td id=\"T_e863264a_84af_11ea_b8b0_ac87a3062decrow5_col0\" class=\"data row5 col0\" >PTTI-3</td>\n",
       "                        <td id=\"T_e863264a_84af_11ea_b8b0_ac87a3062decrow5_col1\" class=\"data row5 col1\" >74942.899632</td>\n",
       "                        <td id=\"T_e863264a_84af_11ea_b8b0_ac87a3062decrow5_col2\" class=\"data row5 col2\" >-146726.493906</td>\n",
       "                        <td id=\"T_e863264a_84af_11ea_b8b0_ac87a3062decrow5_col3\" class=\"data row5 col3\" >-540983.084297</td>\n",
       "            </tr>\n",
       "    </tbody></table>"
      ],
      "text/plain": [
       "<pandas.io.formats.style.Styler at 0x7f9bc109fdf0>"
      ]
     },
     "execution_count": 39,
     "metadata": {},
     "output_type": "execute_result"
    }
   ],
   "source": [
    "df.style.applymap(color_negative_red,subset=[\"IL\",\"ILHI\"])\n"
   ]
  },
  {
   "cell_type": "code",
   "execution_count": 40,
   "metadata": {
    "ExecuteTime": {
     "end_time": "2020-04-22T15:42:47.800685Z",
     "start_time": "2020-04-22T15:42:47.773390Z"
    }
   },
   "outputs": [
    {
     "data": {
      "text/html": [
       "<style  type=\"text/css\" >\n",
       "    #T_ea93b768_84af_11ea_b8b0_ac87a3062dec th {\n",
       "          font-size: 11px;\n",
       "          text-align: center;\n",
       "          font-weight: bold;\n",
       "          color: #6d6d6d;\n",
       "          background-color: #f7f7f9;\n",
       "    }    #T_ea93b768_84af_11ea_b8b0_ac87a3062dec td {\n",
       "          font-size: 11px;\n",
       "    }    #T_ea93b768_84af_11ea_b8b0_ac87a3062decrow0_col2 {\n",
       "            color:  green;\n",
       "        }    #T_ea93b768_84af_11ea_b8b0_ac87a3062decrow0_col3 {\n",
       "            color:  green;\n",
       "        }    #T_ea93b768_84af_11ea_b8b0_ac87a3062decrow1_col2 {\n",
       "            color:  black;\n",
       "        }    #T_ea93b768_84af_11ea_b8b0_ac87a3062decrow1_col3 {\n",
       "            color:  red;\n",
       "        }    #T_ea93b768_84af_11ea_b8b0_ac87a3062decrow2_col2 {\n",
       "            color:  green;\n",
       "        }    #T_ea93b768_84af_11ea_b8b0_ac87a3062decrow2_col3 {\n",
       "            color:  black;\n",
       "        }    #T_ea93b768_84af_11ea_b8b0_ac87a3062decrow3_col2 {\n",
       "            color:  red;\n",
       "        }    #T_ea93b768_84af_11ea_b8b0_ac87a3062decrow3_col3 {\n",
       "            color:  red;\n",
       "        }    #T_ea93b768_84af_11ea_b8b0_ac87a3062decrow4_col2 {\n",
       "            color:  red;\n",
       "        }    #T_ea93b768_84af_11ea_b8b0_ac87a3062decrow4_col3 {\n",
       "            color:  red;\n",
       "        }    #T_ea93b768_84af_11ea_b8b0_ac87a3062decrow5_col2 {\n",
       "            color:  red;\n",
       "        }    #T_ea93b768_84af_11ea_b8b0_ac87a3062decrow5_col3 {\n",
       "            color:  red;\n",
       "        }</style><table id=\"T_ea93b768_84af_11ea_b8b0_ac87a3062dec\" ><thead>    <tr>        <th class=\"blank level0\" ></th>        <th class=\"col_heading level0 col0\" > </th>        <th class=\"col_heading level0 col1\" >Scenario</th>        <th class=\"col_heading level0 col2\" >IL</th>        <th class=\"col_heading level0 col3\" >ILHI</th>    </tr></thead><tbody>\n",
       "                <tr>\n",
       "                        <th id=\"T_ea93b768_84af_11ea_b8b0_ac87a3062declevel0_row0\" class=\"row_heading level0 row0\" >0</th>\n",
       "                        <td id=\"T_ea93b768_84af_11ea_b8b0_ac87a3062decrow0_col0\" class=\"data row0 col0\" >Scenario</td>\n",
       "                        <td id=\"T_ea93b768_84af_11ea_b8b0_ac87a3062decrow0_col1\" class=\"data row0 col1\" >ICU cases</td>\n",
       "                        <td id=\"T_ea93b768_84af_11ea_b8b0_ac87a3062decrow0_col2\" class=\"data row0 col2\" >221669.393538</td>\n",
       "                        <td id=\"T_ea93b768_84af_11ea_b8b0_ac87a3062decrow0_col3\" class=\"data row0 col3\" >615925.983929</td>\n",
       "            </tr>\n",
       "            <tr>\n",
       "                        <th id=\"T_ea93b768_84af_11ea_b8b0_ac87a3062declevel0_row1\" class=\"row_heading level0 row1\" >1</th>\n",
       "                        <td id=\"T_ea93b768_84af_11ea_b8b0_ac87a3062decrow1_col0\" class=\"data row1 col0\" >IL</td>\n",
       "                        <td id=\"T_ea93b768_84af_11ea_b8b0_ac87a3062decrow1_col1\" class=\"data row1 col1\" >221669.393538</td>\n",
       "                        <td id=\"T_ea93b768_84af_11ea_b8b0_ac87a3062decrow1_col2\" class=\"data row1 col2\" >0.000000</td>\n",
       "                        <td id=\"T_ea93b768_84af_11ea_b8b0_ac87a3062decrow1_col3\" class=\"data row1 col3\" >-394256.590391</td>\n",
       "            </tr>\n",
       "            <tr>\n",
       "                        <th id=\"T_ea93b768_84af_11ea_b8b0_ac87a3062declevel0_row2\" class=\"row_heading level0 row2\" >2</th>\n",
       "                        <td id=\"T_ea93b768_84af_11ea_b8b0_ac87a3062decrow2_col0\" class=\"data row2 col0\" >ILHI</td>\n",
       "                        <td id=\"T_ea93b768_84af_11ea_b8b0_ac87a3062decrow2_col1\" class=\"data row2 col1\" >615925.983929</td>\n",
       "                        <td id=\"T_ea93b768_84af_11ea_b8b0_ac87a3062decrow2_col2\" class=\"data row2 col2\" >394256.590391</td>\n",
       "                        <td id=\"T_ea93b768_84af_11ea_b8b0_ac87a3062decrow2_col3\" class=\"data row2 col3\" >0.000000</td>\n",
       "            </tr>\n",
       "            <tr>\n",
       "                        <th id=\"T_ea93b768_84af_11ea_b8b0_ac87a3062declevel0_row3\" class=\"row_heading level0 row3\" >3</th>\n",
       "                        <td id=\"T_ea93b768_84af_11ea_b8b0_ac87a3062decrow3_col0\" class=\"data row3 col0\" >PTTI-1</td>\n",
       "                        <td id=\"T_ea93b768_84af_11ea_b8b0_ac87a3062decrow3_col1\" class=\"data row3 col1\" >91401.734409</td>\n",
       "                        <td id=\"T_ea93b768_84af_11ea_b8b0_ac87a3062decrow3_col2\" class=\"data row3 col2\" >-130267.659129</td>\n",
       "                        <td id=\"T_ea93b768_84af_11ea_b8b0_ac87a3062decrow3_col3\" class=\"data row3 col3\" >-524524.249519</td>\n",
       "            </tr>\n",
       "            <tr>\n",
       "                        <th id=\"T_ea93b768_84af_11ea_b8b0_ac87a3062declevel0_row4\" class=\"row_heading level0 row4\" >4</th>\n",
       "                        <td id=\"T_ea93b768_84af_11ea_b8b0_ac87a3062decrow4_col0\" class=\"data row4 col0\" >PTTI-2</td>\n",
       "                        <td id=\"T_ea93b768_84af_11ea_b8b0_ac87a3062decrow4_col1\" class=\"data row4 col1\" >174294.330166</td>\n",
       "                        <td id=\"T_ea93b768_84af_11ea_b8b0_ac87a3062decrow4_col2\" class=\"data row4 col2\" >-47375.063372</td>\n",
       "                        <td id=\"T_ea93b768_84af_11ea_b8b0_ac87a3062decrow4_col3\" class=\"data row4 col3\" >-441631.653763</td>\n",
       "            </tr>\n",
       "            <tr>\n",
       "                        <th id=\"T_ea93b768_84af_11ea_b8b0_ac87a3062declevel0_row5\" class=\"row_heading level0 row5\" >5</th>\n",
       "                        <td id=\"T_ea93b768_84af_11ea_b8b0_ac87a3062decrow5_col0\" class=\"data row5 col0\" >PTTI-3</td>\n",
       "                        <td id=\"T_ea93b768_84af_11ea_b8b0_ac87a3062decrow5_col1\" class=\"data row5 col1\" >74942.899632</td>\n",
       "                        <td id=\"T_ea93b768_84af_11ea_b8b0_ac87a3062decrow5_col2\" class=\"data row5 col2\" >-146726.493906</td>\n",
       "                        <td id=\"T_ea93b768_84af_11ea_b8b0_ac87a3062decrow5_col3\" class=\"data row5 col3\" >-540983.084297</td>\n",
       "            </tr>\n",
       "    </tbody></table>"
      ],
      "text/plain": [
       "<pandas.io.formats.style.Styler at 0x7f9bc109f850>"
      ]
     },
     "execution_count": 40,
     "metadata": {},
     "output_type": "execute_result"
    }
   ],
   "source": [
    "# Set CSS properties for th elements in dataframe\n",
    "th_props = [\n",
    "  ('font-size', '11px'),\n",
    "  ('text-align', 'center'),\n",
    "  ('font-weight', 'bold'),\n",
    "  ('color', '#6d6d6d'),\n",
    "  ('background-color', '#f7f7f9')\n",
    "  ]\n",
    "\n",
    "# Set CSS properties for td elements in dataframe\n",
    "td_props = [\n",
    "  ('font-size', '11px')\n",
    "  ]\n",
    "\n",
    "# Set table styles\n",
    "styles = [\n",
    "  dict(selector=\"th\", props=th_props),\n",
    "  dict(selector=\"td\", props=td_props)\n",
    "  ]\n",
    "\n",
    "\n",
    "(df.style\n",
    "    .applymap(color_negative_red, subset=[\"IL\",\"ILHI\"])\n",
    "    #.format({'total_amt_usd_pct_diff': \"{:.2%}\"})\n",
    "    .set_table_styles(styles))"
   ]
  },
  {
   "cell_type": "code",
   "execution_count": 41,
   "metadata": {
    "ExecuteTime": {
     "end_time": "2020-04-22T15:42:50.075335Z",
     "start_time": "2020-04-22T15:42:50.061547Z"
    }
   },
   "outputs": [
    {
     "data": {
      "text/html": [
       "<style  type=\"text/css\" >\n",
       "    #T_ebef921c_84af_11ea_b8b0_ac87a3062dec th {\n",
       "          font-size: 11px;\n",
       "          text-align: center;\n",
       "          font-weight: bold;\n",
       "          color: #6d6d6d;\n",
       "          background-color: #f7f7f9;\n",
       "    }    #T_ebef921c_84af_11ea_b8b0_ac87a3062dec td {\n",
       "          font-size: 11px;\n",
       "    }    #T_ebef921c_84af_11ea_b8b0_ac87a3062decrow0_col2 {\n",
       "            background-color:  #49a849;\n",
       "            color:  #000000;\n",
       "        }    #T_ebef921c_84af_11ea_b8b0_ac87a3062decrow0_col3 {\n",
       "            background-color:  #008000;\n",
       "            color:  #f1f1f1;\n",
       "        }    #T_ebef921c_84af_11ea_b8b0_ac87a3062decrow1_col2 {\n",
       "            background-color:  #a7dda7;\n",
       "            color:  #000000;\n",
       "        }    #T_ebef921c_84af_11ea_b8b0_ac87a3062decrow1_col3 {\n",
       "            background-color:  #c9efc9;\n",
       "            color:  #000000;\n",
       "        }    #T_ebef921c_84af_11ea_b8b0_ac87a3062decrow2_col2 {\n",
       "            background-color:  #008000;\n",
       "            color:  #f1f1f1;\n",
       "        }    #T_ebef921c_84af_11ea_b8b0_ac87a3062decrow2_col3 {\n",
       "            background-color:  #7ac47a;\n",
       "            color:  #000000;\n",
       "        }    #T_ebef921c_84af_11ea_b8b0_ac87a3062decrow3_col2 {\n",
       "            background-color:  #dffcdf;\n",
       "            color:  #000000;\n",
       "        }    #T_ebef921c_84af_11ea_b8b0_ac87a3062decrow3_col3 {\n",
       "            background-color:  #e3fee3;\n",
       "            color:  #000000;\n",
       "        }    #T_ebef921c_84af_11ea_b8b0_ac87a3062decrow4_col2 {\n",
       "            background-color:  #bbe8bb;\n",
       "            color:  #000000;\n",
       "        }    #T_ebef921c_84af_11ea_b8b0_ac87a3062decrow4_col3 {\n",
       "            background-color:  #d3f5d3;\n",
       "            color:  #000000;\n",
       "        }    #T_ebef921c_84af_11ea_b8b0_ac87a3062decrow5_col2 {\n",
       "            background-color:  #e5ffe5;\n",
       "            color:  #000000;\n",
       "        }    #T_ebef921c_84af_11ea_b8b0_ac87a3062decrow5_col3 {\n",
       "            background-color:  #e5ffe5;\n",
       "            color:  #000000;\n",
       "        }</style><table id=\"T_ebef921c_84af_11ea_b8b0_ac87a3062dec\" ><caption>This is a custom caption.</caption><thead>    <tr>        <th class=\"blank level0\" ></th>        <th class=\"col_heading level0 col0\" > </th>        <th class=\"col_heading level0 col1\" >Scenario</th>        <th class=\"col_heading level0 col2\" >IL</th>        <th class=\"col_heading level0 col3\" >ILHI</th>    </tr></thead><tbody>\n",
       "                <tr>\n",
       "                        <th id=\"T_ebef921c_84af_11ea_b8b0_ac87a3062declevel0_row0\" class=\"row_heading level0 row0\" >0</th>\n",
       "                        <td id=\"T_ebef921c_84af_11ea_b8b0_ac87a3062decrow0_col0\" class=\"data row0 col0\" >Scenario</td>\n",
       "                        <td id=\"T_ebef921c_84af_11ea_b8b0_ac87a3062decrow0_col1\" class=\"data row0 col1\" >ICU cases</td>\n",
       "                        <td id=\"T_ebef921c_84af_11ea_b8b0_ac87a3062decrow0_col2\" class=\"data row0 col2\" >221669.393538</td>\n",
       "                        <td id=\"T_ebef921c_84af_11ea_b8b0_ac87a3062decrow0_col3\" class=\"data row0 col3\" >615925.983929</td>\n",
       "            </tr>\n",
       "            <tr>\n",
       "                        <th id=\"T_ebef921c_84af_11ea_b8b0_ac87a3062declevel0_row1\" class=\"row_heading level0 row1\" >1</th>\n",
       "                        <td id=\"T_ebef921c_84af_11ea_b8b0_ac87a3062decrow1_col0\" class=\"data row1 col0\" >IL</td>\n",
       "                        <td id=\"T_ebef921c_84af_11ea_b8b0_ac87a3062decrow1_col1\" class=\"data row1 col1\" >221669.393538</td>\n",
       "                        <td id=\"T_ebef921c_84af_11ea_b8b0_ac87a3062decrow1_col2\" class=\"data row1 col2\" >0.000000</td>\n",
       "                        <td id=\"T_ebef921c_84af_11ea_b8b0_ac87a3062decrow1_col3\" class=\"data row1 col3\" >-394256.590391</td>\n",
       "            </tr>\n",
       "            <tr>\n",
       "                        <th id=\"T_ebef921c_84af_11ea_b8b0_ac87a3062declevel0_row2\" class=\"row_heading level0 row2\" >2</th>\n",
       "                        <td id=\"T_ebef921c_84af_11ea_b8b0_ac87a3062decrow2_col0\" class=\"data row2 col0\" >ILHI</td>\n",
       "                        <td id=\"T_ebef921c_84af_11ea_b8b0_ac87a3062decrow2_col1\" class=\"data row2 col1\" >615925.983929</td>\n",
       "                        <td id=\"T_ebef921c_84af_11ea_b8b0_ac87a3062decrow2_col2\" class=\"data row2 col2\" >394256.590391</td>\n",
       "                        <td id=\"T_ebef921c_84af_11ea_b8b0_ac87a3062decrow2_col3\" class=\"data row2 col3\" >0.000000</td>\n",
       "            </tr>\n",
       "            <tr>\n",
       "                        <th id=\"T_ebef921c_84af_11ea_b8b0_ac87a3062declevel0_row3\" class=\"row_heading level0 row3\" >3</th>\n",
       "                        <td id=\"T_ebef921c_84af_11ea_b8b0_ac87a3062decrow3_col0\" class=\"data row3 col0\" >PTTI-1</td>\n",
       "                        <td id=\"T_ebef921c_84af_11ea_b8b0_ac87a3062decrow3_col1\" class=\"data row3 col1\" >91401.734409</td>\n",
       "                        <td id=\"T_ebef921c_84af_11ea_b8b0_ac87a3062decrow3_col2\" class=\"data row3 col2\" >-130267.659129</td>\n",
       "                        <td id=\"T_ebef921c_84af_11ea_b8b0_ac87a3062decrow3_col3\" class=\"data row3 col3\" >-524524.249519</td>\n",
       "            </tr>\n",
       "            <tr>\n",
       "                        <th id=\"T_ebef921c_84af_11ea_b8b0_ac87a3062declevel0_row4\" class=\"row_heading level0 row4\" >4</th>\n",
       "                        <td id=\"T_ebef921c_84af_11ea_b8b0_ac87a3062decrow4_col0\" class=\"data row4 col0\" >PTTI-2</td>\n",
       "                        <td id=\"T_ebef921c_84af_11ea_b8b0_ac87a3062decrow4_col1\" class=\"data row4 col1\" >174294.330166</td>\n",
       "                        <td id=\"T_ebef921c_84af_11ea_b8b0_ac87a3062decrow4_col2\" class=\"data row4 col2\" >-47375.063372</td>\n",
       "                        <td id=\"T_ebef921c_84af_11ea_b8b0_ac87a3062decrow4_col3\" class=\"data row4 col3\" >-441631.653763</td>\n",
       "            </tr>\n",
       "            <tr>\n",
       "                        <th id=\"T_ebef921c_84af_11ea_b8b0_ac87a3062declevel0_row5\" class=\"row_heading level0 row5\" >5</th>\n",
       "                        <td id=\"T_ebef921c_84af_11ea_b8b0_ac87a3062decrow5_col0\" class=\"data row5 col0\" >PTTI-3</td>\n",
       "                        <td id=\"T_ebef921c_84af_11ea_b8b0_ac87a3062decrow5_col1\" class=\"data row5 col1\" >74942.899632</td>\n",
       "                        <td id=\"T_ebef921c_84af_11ea_b8b0_ac87a3062decrow5_col2\" class=\"data row5 col2\" >-146726.493906</td>\n",
       "                        <td id=\"T_ebef921c_84af_11ea_b8b0_ac87a3062decrow5_col3\" class=\"data row5 col3\" >-540983.084297</td>\n",
       "            </tr>\n",
       "    </tbody></table>"
      ],
      "text/plain": [
       "<pandas.io.formats.style.Styler at 0x7f9bc109fa60>"
      ]
     },
     "execution_count": 41,
     "metadata": {},
     "output_type": "execute_result"
    }
   ],
   "source": [
    "# Set colormap equal to seaborns light green color palette\n",
    "cm = sns.light_palette(\"green\", as_cmap=True)\n",
    "\n",
    "(df.style\n",
    "  .background_gradient(cmap=cm, subset=[\"IL\",\"ILHI\"])\n",
    "  #.highlight_max(subset=['total_amt_usd_diff','total_amt_usd_pct_diff'])\n",
    "  .set_caption('This is a custom caption.')\n",
    "  #.format({'total_amt_usd_pct_diff': \"{:.2%}\"})\n",
    "  .set_table_styles(styles))"
   ]
  },
  {
   "cell_type": "code",
   "execution_count": 36,
   "metadata": {
    "ExecuteTime": {
     "end_time": "2020-04-22T15:38:44.508616Z",
     "start_time": "2020-04-22T15:38:44.486706Z"
    }
   },
   "outputs": [
    {
     "ename": "AttributeError",
     "evalue": "'Credentials' object has no attribute 'access_token'",
     "output_type": "error",
     "traceback": [
      "\u001b[0;31m---------------------------------------------------------------------------\u001b[0m",
      "\u001b[0;31mAttributeError\u001b[0m                            Traceback (most recent call last)",
      "\u001b[0;32m<ipython-input-36-24710751fc33>\u001b[0m in \u001b[0;36m<module>\u001b[0;34m\u001b[0m\n\u001b[1;32m      6\u001b[0m \u001b[0mcredentials\u001b[0m \u001b[0;34m=\u001b[0m \u001b[0mCredentials\u001b[0m\u001b[0;34m.\u001b[0m\u001b[0mfrom_service_account_file\u001b[0m\u001b[0;34m(\u001b[0m\u001b[0;34m'ptti-275015-81208d439382.json'\u001b[0m\u001b[0;34m,\u001b[0m \u001b[0mscopes\u001b[0m\u001b[0;34m=\u001b[0m\u001b[0mscope\u001b[0m\u001b[0;34m)\u001b[0m\u001b[0;34m\u001b[0m\u001b[0;34m\u001b[0m\u001b[0m\n\u001b[1;32m      7\u001b[0m \u001b[0;34m\u001b[0m\u001b[0m\n\u001b[0;32m----> 8\u001b[0;31m \u001b[0mgc\u001b[0m \u001b[0;34m=\u001b[0m \u001b[0mgspread\u001b[0m\u001b[0;34m.\u001b[0m\u001b[0mauthorize\u001b[0m\u001b[0;34m(\u001b[0m\u001b[0mcredentials\u001b[0m\u001b[0;34m)\u001b[0m\u001b[0;34m\u001b[0m\u001b[0;34m\u001b[0m\u001b[0m\n\u001b[0m\u001b[1;32m      9\u001b[0m \u001b[0;34m\u001b[0m\u001b[0m\n\u001b[1;32m     10\u001b[0m \u001b[0mwks\u001b[0m \u001b[0;34m=\u001b[0m \u001b[0mgc\u001b[0m\u001b[0;34m.\u001b[0m\u001b[0mopen\u001b[0m\u001b[0;34m(\u001b[0m\u001b[0;34m\"1cf2tMhHL1hxAAg2s0gBRrnMn-a5B7fN2e-s7pafZOBg\"\u001b[0m\u001b[0;34m)\u001b[0m\u001b[0;34m.\u001b[0m\u001b[0msheet1\u001b[0m\u001b[0;34m\u001b[0m\u001b[0;34m\u001b[0m\u001b[0m\n",
      "\u001b[0;32m/Users/Shared/miniconda3/envs/ptti/lib/python3.8/site-packages/gspread/__init__.py\u001b[0m in \u001b[0;36mauthorize\u001b[0;34m(credentials, client_class)\u001b[0m\n\u001b[1;32m     36\u001b[0m     \"\"\"\n\u001b[1;32m     37\u001b[0m     \u001b[0mclient\u001b[0m \u001b[0;34m=\u001b[0m \u001b[0mclient_class\u001b[0m\u001b[0;34m(\u001b[0m\u001b[0mauth\u001b[0m\u001b[0;34m=\u001b[0m\u001b[0mcredentials\u001b[0m\u001b[0;34m)\u001b[0m\u001b[0;34m\u001b[0m\u001b[0;34m\u001b[0m\u001b[0m\n\u001b[0;32m---> 38\u001b[0;31m     \u001b[0mclient\u001b[0m\u001b[0;34m.\u001b[0m\u001b[0mlogin\u001b[0m\u001b[0;34m(\u001b[0m\u001b[0;34m)\u001b[0m\u001b[0;34m\u001b[0m\u001b[0;34m\u001b[0m\u001b[0m\n\u001b[0m\u001b[1;32m     39\u001b[0m     \u001b[0;32mreturn\u001b[0m \u001b[0mclient\u001b[0m\u001b[0;34m\u001b[0m\u001b[0;34m\u001b[0m\u001b[0m\n",
      "\u001b[0;32m/Users/Shared/miniconda3/envs/ptti/lib/python3.8/site-packages/gspread/client.py\u001b[0m in \u001b[0;36mlogin\u001b[0;34m(self)\u001b[0m\n\u001b[1;32m     44\u001b[0m     \u001b[0;32mdef\u001b[0m \u001b[0mlogin\u001b[0m\u001b[0;34m(\u001b[0m\u001b[0mself\u001b[0m\u001b[0;34m)\u001b[0m\u001b[0;34m:\u001b[0m\u001b[0;34m\u001b[0m\u001b[0;34m\u001b[0m\u001b[0m\n\u001b[1;32m     45\u001b[0m         \u001b[0;34m\"\"\"Authorize client.\"\"\"\u001b[0m\u001b[0;34m\u001b[0m\u001b[0;34m\u001b[0m\u001b[0m\n\u001b[0;32m---> 46\u001b[0;31m         \u001b[0;32mif\u001b[0m \u001b[0;32mnot\u001b[0m \u001b[0mself\u001b[0m\u001b[0;34m.\u001b[0m\u001b[0mauth\u001b[0m\u001b[0;34m.\u001b[0m\u001b[0maccess_token\u001b[0m \u001b[0;32mor\u001b[0m\u001b[0;31m \u001b[0m\u001b[0;31m\\\u001b[0m\u001b[0;34m\u001b[0m\u001b[0;34m\u001b[0m\u001b[0m\n\u001b[0m\u001b[1;32m     47\u001b[0m                 \u001b[0;34m(\u001b[0m\u001b[0mhasattr\u001b[0m\u001b[0;34m(\u001b[0m\u001b[0mself\u001b[0m\u001b[0;34m.\u001b[0m\u001b[0mauth\u001b[0m\u001b[0;34m,\u001b[0m \u001b[0;34m'access_token_expired'\u001b[0m\u001b[0;34m)\u001b[0m \u001b[0;32mand\u001b[0m \u001b[0mself\u001b[0m\u001b[0;34m.\u001b[0m\u001b[0mauth\u001b[0m\u001b[0;34m.\u001b[0m\u001b[0maccess_token_expired\u001b[0m\u001b[0;34m)\u001b[0m\u001b[0;34m:\u001b[0m\u001b[0;34m\u001b[0m\u001b[0;34m\u001b[0m\u001b[0m\n\u001b[1;32m     48\u001b[0m             \u001b[0;32mimport\u001b[0m \u001b[0mhttplib2\u001b[0m\u001b[0;34m\u001b[0m\u001b[0;34m\u001b[0m\u001b[0m\n",
      "\u001b[0;31mAttributeError\u001b[0m: 'Credentials' object has no attribute 'access_token'"
     ]
    }
   ],
   "source": [
    "from google.oauth2.service_account import Credentials\n",
    "\n",
    "scope = ['https://spreadsheets.google.com/feeds',\n",
    "         'https://www.googleapis.com/auth/drive']\n",
    "\n",
    "credentials = Credentials.from_service_account_file('ptti-275015-81208d439382.json', scopes=scope)\n",
    "\n",
    "gc = gspread.authorize(credentials)\n",
    "\n",
    "wks = gc.open(\"1cf2tMhHL1hxAAg2s0gBRrnMn-a5B7fN2e-s7pafZOBg\").sheet1"
   ]
  },
  {
   "cell_type": "code",
   "execution_count": 57,
   "metadata": {
    "ExecuteTime": {
     "end_time": "2020-04-22T16:04:48.754825Z",
     "start_time": "2020-04-22T16:04:48.737858Z"
    },
    "scrolled": true
   },
   "outputs": [
    {
     "ename": "NameError",
     "evalue": "name 'ServiceAccountCredentials' is not defined",
     "output_type": "error",
     "traceback": [
      "\u001b[0;31m---------------------------------------------------------------------------\u001b[0m",
      "\u001b[0;31mNameError\u001b[0m                                 Traceback (most recent call last)",
      "\u001b[0;32m<ipython-input-57-2ac797108c51>\u001b[0m in \u001b[0;36m<module>\u001b[0;34m\u001b[0m\n\u001b[1;32m      1\u001b[0m scope = ['https://spreadsheets.google.com/feeds',\n\u001b[1;32m      2\u001b[0m          'https://www.googleapis.com/auth/drive'];\n\u001b[0;32m----> 3\u001b[0;31m \u001b[0mcredentials\u001b[0m \u001b[0;34m=\u001b[0m \u001b[0mServiceAccountCredentials\u001b[0m\u001b[0;34m.\u001b[0m\u001b[0mfrom_json_keyfile_name\u001b[0m\u001b[0;34m(\u001b[0m\u001b[0;34m'ptti-275015-5d72516ab2a7.json'\u001b[0m\u001b[0;34m,\u001b[0m \u001b[0mscope\u001b[0m\u001b[0;34m)\u001b[0m\u001b[0;34m\u001b[0m\u001b[0;34m\u001b[0m\u001b[0m\n\u001b[0m\u001b[1;32m      4\u001b[0m \u001b[0;31m#credentials = ServiceAccountCredentials.from_json_keyfile_name('/Users/Shared/miniconda3/envs/ptti/ptti-275015-5d72516ab2a7.json', scope)\u001b[0m\u001b[0;34m\u001b[0m\u001b[0;34m\u001b[0m\u001b[0;34m\u001b[0m\u001b[0m\n\u001b[1;32m      5\u001b[0m \u001b[0mgc\u001b[0m \u001b[0;34m=\u001b[0m \u001b[0mgspread\u001b[0m\u001b[0;34m.\u001b[0m\u001b[0mauthorize\u001b[0m\u001b[0;34m(\u001b[0m\u001b[0mcredentials\u001b[0m\u001b[0;34m)\u001b[0m\u001b[0;34m\u001b[0m\u001b[0;34m\u001b[0m\u001b[0m\n",
      "\u001b[0;31mNameError\u001b[0m: name 'ServiceAccountCredentials' is not defined"
     ]
    }
   ],
   "source": [
    "scope = ['https://spreadsheets.google.com/feeds',\n",
    "         'https://www.googleapis.com/auth/drive'];\n",
    "credentials = ServiceAccountCredentials.from_json_keyfile_name('ptti-275015-5d72516ab2a7.json', scope)\n",
    "#credentials = ServiceAccountCredentials.from_json_keyfile_name('/Users/Shared/miniconda3/envs/ptti/ptti-275015-5d72516ab2a7.json', scope)\n",
    "gc = gspread.authorize(credentials)"
   ]
  },
  {
   "cell_type": "code",
   "execution_count": 59,
   "metadata": {
    "ExecuteTime": {
     "end_time": "2020-04-22T16:10:20.860519Z",
     "start_time": "2020-04-22T16:10:20.847372Z"
    }
   },
   "outputs": [
    {
     "ename": "NameError",
     "evalue": "name 'ServiceAccountCredentials' is not defined",
     "output_type": "error",
     "traceback": [
      "\u001b[0;31m---------------------------------------------------------------------------\u001b[0m",
      "\u001b[0;31mNameError\u001b[0m                                 Traceback (most recent call last)",
      "\u001b[0;32m<ipython-input-59-f427d40902d1>\u001b[0m in \u001b[0;36m<module>\u001b[0;34m\u001b[0m\n\u001b[1;32m      1\u001b[0m scope = ['https://spreadsheets.google.com/feeds',\n\u001b[1;32m      2\u001b[0m          'https://www.googleapis.com/auth/drive'];\n\u001b[0;32m----> 3\u001b[0;31m \u001b[0mcredentials\u001b[0m \u001b[0;34m=\u001b[0m \u001b[0mServiceAccountCredentials\u001b[0m\u001b[0;34m.\u001b[0m\u001b[0mfrom_json_keyfile_name\u001b[0m\u001b[0;34m(\u001b[0m\u001b[0;34m'ptti-275015-5d72516ab2a7.json'\u001b[0m\u001b[0;34m,\u001b[0m \u001b[0mscope\u001b[0m\u001b[0;34m)\u001b[0m\u001b[0;34m\u001b[0m\u001b[0;34m\u001b[0m\u001b[0m\n\u001b[0m\u001b[1;32m      4\u001b[0m \u001b[0mgc\u001b[0m \u001b[0;34m=\u001b[0m \u001b[0mgspread\u001b[0m\u001b[0;34m.\u001b[0m\u001b[0mauthorize\u001b[0m\u001b[0;34m(\u001b[0m\u001b[0mcredentials\u001b[0m\u001b[0;34m)\u001b[0m\u001b[0;34m\u001b[0m\u001b[0;34m\u001b[0m\u001b[0m\n",
      "\u001b[0;31mNameError\u001b[0m: name 'ServiceAccountCredentials' is not defined"
     ]
    }
   ],
   "source": [
    "scope = ['https://spreadsheets.google.com/feeds',\n",
    "         'https://www.googleapis.com/auth/drive'];\n",
    "credentials = ServiceAccountCredentials.from_json_keyfile_name('ptti-275015-5d72516ab2a7.json', scope)\n",
    "gc = gspread.authorize(credentials)"
   ]
  },
  {
   "cell_type": "code",
   "execution_count": 53,
   "metadata": {
    "ExecuteTime": {
     "end_time": "2020-04-22T15:56:50.675024Z",
     "start_time": "2020-04-22T15:56:50.653845Z"
    }
   },
   "outputs": [
    {
     "name": "stdout",
     "output_type": "stream",
     "text": [
      "Invalid credentials supplied. Will generate from default token.\n"
     ]
    },
    {
     "ename": "InvalidClientSecretsError",
     "evalue": "('Error opening file', '/Users/Greg 1/.gdrive_private', 'No such file or directory', 2)",
     "output_type": "error",
     "traceback": [
      "\u001b[0;31m---------------------------------------------------------------------------\u001b[0m",
      "\u001b[0;31mFileNotFoundError\u001b[0m                         Traceback (most recent call last)",
      "\u001b[0;32m/Users/Shared/miniconda3/envs/ptti/lib/python3.8/site-packages/oauth2client/clientsecrets.py\u001b[0m in \u001b[0;36m_loadfile\u001b[0;34m(filename)\u001b[0m\n\u001b[1;32m    120\u001b[0m     \u001b[0;32mtry\u001b[0m\u001b[0;34m:\u001b[0m\u001b[0;34m\u001b[0m\u001b[0;34m\u001b[0m\u001b[0m\n\u001b[0;32m--> 121\u001b[0;31m         \u001b[0;32mwith\u001b[0m \u001b[0mopen\u001b[0m\u001b[0;34m(\u001b[0m\u001b[0mfilename\u001b[0m\u001b[0;34m,\u001b[0m \u001b[0;34m'r'\u001b[0m\u001b[0;34m)\u001b[0m \u001b[0;32mas\u001b[0m \u001b[0mfp\u001b[0m\u001b[0;34m:\u001b[0m\u001b[0;34m\u001b[0m\u001b[0;34m\u001b[0m\u001b[0m\n\u001b[0m\u001b[1;32m    122\u001b[0m             \u001b[0mobj\u001b[0m \u001b[0;34m=\u001b[0m \u001b[0mjson\u001b[0m\u001b[0;34m.\u001b[0m\u001b[0mload\u001b[0m\u001b[0;34m(\u001b[0m\u001b[0mfp\u001b[0m\u001b[0;34m)\u001b[0m\u001b[0;34m\u001b[0m\u001b[0;34m\u001b[0m\u001b[0m\n",
      "\u001b[0;31mFileNotFoundError\u001b[0m: [Errno 2] No such file or directory: '/Users/Greg 1/.gdrive_private'",
      "\nDuring handling of the above exception, another exception occurred:\n",
      "\u001b[0;31mInvalidClientSecretsError\u001b[0m                 Traceback (most recent call last)",
      "\u001b[0;32m<ipython-input-53-362312677163>\u001b[0m in \u001b[0;36m<module>\u001b[0;34m\u001b[0m\n\u001b[1;32m      1\u001b[0m \u001b[0mspreadsheet_key\u001b[0m \u001b[0;34m=\u001b[0m \u001b[0;34m'1cf2tMhHL1hxAAg2s0gBRrnMn-a5B7fN2e-s7pafZOBg'\u001b[0m\u001b[0;34m\u001b[0m\u001b[0;34m\u001b[0m\u001b[0m\n\u001b[1;32m      2\u001b[0m \u001b[0mwks_name\u001b[0m \u001b[0;34m=\u001b[0m \u001b[0;34m'Master'\u001b[0m\u001b[0;34m\u001b[0m\u001b[0;34m\u001b[0m\u001b[0m\n\u001b[0;32m----> 3\u001b[0;31m \u001b[0md2g\u001b[0m\u001b[0;34m.\u001b[0m\u001b[0mupload\u001b[0m\u001b[0;34m(\u001b[0m\u001b[0mdf\u001b[0m\u001b[0;34m,\u001b[0m \u001b[0mspreadsheet_key\u001b[0m\u001b[0;34m,\u001b[0m \u001b[0mwks_name\u001b[0m\u001b[0;34m,\u001b[0m \u001b[0mcredentials\u001b[0m\u001b[0;34m=\u001b[0m\u001b[0mcredentials\u001b[0m\u001b[0;34m,\u001b[0m \u001b[0mrow_names\u001b[0m\u001b[0;34m=\u001b[0m\u001b[0;32mTrue\u001b[0m\u001b[0;34m)\u001b[0m\u001b[0;34m\u001b[0m\u001b[0;34m\u001b[0m\u001b[0m\n\u001b[0m",
      "\u001b[0;32m/Users/Shared/miniconda3/envs/ptti/lib/python3.8/site-packages/df2gspread/df2gspread.py\u001b[0m in \u001b[0;36mupload\u001b[0;34m(df, gfile, wks_name, col_names, row_names, clean, credentials, start_cell, df_size, new_sheet_dimensions)\u001b[0m\n\u001b[1;32m     70\u001b[0m     '''\n\u001b[1;32m     71\u001b[0m     \u001b[0;31m# access credentials\u001b[0m\u001b[0;34m\u001b[0m\u001b[0;34m\u001b[0m\u001b[0;34m\u001b[0m\u001b[0m\n\u001b[0;32m---> 72\u001b[0;31m     \u001b[0mcredentials\u001b[0m \u001b[0;34m=\u001b[0m \u001b[0mget_credentials\u001b[0m\u001b[0;34m(\u001b[0m\u001b[0mcredentials\u001b[0m\u001b[0;34m)\u001b[0m\u001b[0;34m\u001b[0m\u001b[0;34m\u001b[0m\u001b[0m\n\u001b[0m\u001b[1;32m     73\u001b[0m     \u001b[0;31m# auth for gspread\u001b[0m\u001b[0;34m\u001b[0m\u001b[0;34m\u001b[0m\u001b[0;34m\u001b[0m\u001b[0m\n\u001b[1;32m     74\u001b[0m     \u001b[0mgc\u001b[0m \u001b[0;34m=\u001b[0m \u001b[0mgspread\u001b[0m\u001b[0;34m.\u001b[0m\u001b[0mauthorize\u001b[0m\u001b[0;34m(\u001b[0m\u001b[0mcredentials\u001b[0m\u001b[0;34m)\u001b[0m\u001b[0;34m\u001b[0m\u001b[0;34m\u001b[0m\u001b[0m\n",
      "\u001b[0;32m/Users/Shared/miniconda3/envs/ptti/lib/python3.8/site-packages/df2gspread/utils.py\u001b[0m in \u001b[0;36mget_credentials\u001b[0;34m(credentials, client_secret_file, refresh_token)\u001b[0m\n\u001b[1;32m     79\u001b[0m     \u001b[0;32mif\u001b[0m \u001b[0;32mnot\u001b[0m \u001b[0mcredentials\u001b[0m \u001b[0;32mor\u001b[0m \u001b[0mcredentials\u001b[0m\u001b[0;34m.\u001b[0m\u001b[0minvalid\u001b[0m\u001b[0;34m:\u001b[0m\u001b[0;34m\u001b[0m\u001b[0;34m\u001b[0m\u001b[0m\n\u001b[1;32m     80\u001b[0m \u001b[0;34m\u001b[0m\u001b[0m\n\u001b[0;32m---> 81\u001b[0;31m         flow = client.flow_from_clientsecrets(\n\u001b[0m\u001b[1;32m     82\u001b[0m             client_secret_file, SCOPES)\n\u001b[1;32m     83\u001b[0m         \u001b[0mflow\u001b[0m\u001b[0;34m.\u001b[0m\u001b[0mredirect_uri\u001b[0m \u001b[0;34m=\u001b[0m \u001b[0mclient\u001b[0m\u001b[0;34m.\u001b[0m\u001b[0mOOB_CALLBACK_URN\u001b[0m\u001b[0;34m\u001b[0m\u001b[0;34m\u001b[0m\u001b[0m\n",
      "\u001b[0;32m/Users/Shared/miniconda3/envs/ptti/lib/python3.8/site-packages/oauth2client/_helpers.py\u001b[0m in \u001b[0;36mpositional_wrapper\u001b[0;34m(*args, **kwargs)\u001b[0m\n\u001b[1;32m    131\u001b[0m                 \u001b[0;32melif\u001b[0m \u001b[0mpositional_parameters_enforcement\u001b[0m \u001b[0;34m==\u001b[0m \u001b[0mPOSITIONAL_WARNING\u001b[0m\u001b[0;34m:\u001b[0m\u001b[0;34m\u001b[0m\u001b[0;34m\u001b[0m\u001b[0m\n\u001b[1;32m    132\u001b[0m                     \u001b[0mlogger\u001b[0m\u001b[0;34m.\u001b[0m\u001b[0mwarning\u001b[0m\u001b[0;34m(\u001b[0m\u001b[0mmessage\u001b[0m\u001b[0;34m)\u001b[0m\u001b[0;34m\u001b[0m\u001b[0;34m\u001b[0m\u001b[0m\n\u001b[0;32m--> 133\u001b[0;31m             \u001b[0;32mreturn\u001b[0m \u001b[0mwrapped\u001b[0m\u001b[0;34m(\u001b[0m\u001b[0;34m*\u001b[0m\u001b[0margs\u001b[0m\u001b[0;34m,\u001b[0m \u001b[0;34m**\u001b[0m\u001b[0mkwargs\u001b[0m\u001b[0;34m)\u001b[0m\u001b[0;34m\u001b[0m\u001b[0;34m\u001b[0m\u001b[0m\n\u001b[0m\u001b[1;32m    134\u001b[0m         \u001b[0;32mreturn\u001b[0m \u001b[0mpositional_wrapper\u001b[0m\u001b[0;34m\u001b[0m\u001b[0;34m\u001b[0m\u001b[0m\n\u001b[1;32m    135\u001b[0m \u001b[0;34m\u001b[0m\u001b[0m\n",
      "\u001b[0;32m/Users/Shared/miniconda3/envs/ptti/lib/python3.8/site-packages/oauth2client/client.py\u001b[0m in \u001b[0;36mflow_from_clientsecrets\u001b[0;34m(filename, scope, redirect_uri, message, cache, login_hint, device_uri, pkce, code_verifier, prompt)\u001b[0m\n\u001b[1;32m   2132\u001b[0m     \"\"\"\n\u001b[1;32m   2133\u001b[0m     \u001b[0;32mtry\u001b[0m\u001b[0;34m:\u001b[0m\u001b[0;34m\u001b[0m\u001b[0;34m\u001b[0m\u001b[0m\n\u001b[0;32m-> 2134\u001b[0;31m         client_type, client_info = clientsecrets.loadfile(filename,\n\u001b[0m\u001b[1;32m   2135\u001b[0m                                                           cache=cache)\n\u001b[1;32m   2136\u001b[0m         if client_type in (clientsecrets.TYPE_WEB,\n",
      "\u001b[0;32m/Users/Shared/miniconda3/envs/ptti/lib/python3.8/site-packages/oauth2client/clientsecrets.py\u001b[0m in \u001b[0;36mloadfile\u001b[0;34m(filename, cache)\u001b[0m\n\u001b[1;32m    163\u001b[0m \u001b[0;34m\u001b[0m\u001b[0m\n\u001b[1;32m    164\u001b[0m     \u001b[0;32mif\u001b[0m \u001b[0;32mnot\u001b[0m \u001b[0mcache\u001b[0m\u001b[0;34m:\u001b[0m\u001b[0;34m\u001b[0m\u001b[0;34m\u001b[0m\u001b[0m\n\u001b[0;32m--> 165\u001b[0;31m         \u001b[0;32mreturn\u001b[0m \u001b[0m_loadfile\u001b[0m\u001b[0;34m(\u001b[0m\u001b[0mfilename\u001b[0m\u001b[0;34m)\u001b[0m\u001b[0;34m\u001b[0m\u001b[0;34m\u001b[0m\u001b[0m\n\u001b[0m\u001b[1;32m    166\u001b[0m \u001b[0;34m\u001b[0m\u001b[0m\n\u001b[1;32m    167\u001b[0m     \u001b[0mobj\u001b[0m \u001b[0;34m=\u001b[0m \u001b[0mcache\u001b[0m\u001b[0;34m.\u001b[0m\u001b[0mget\u001b[0m\u001b[0;34m(\u001b[0m\u001b[0mfilename\u001b[0m\u001b[0;34m,\u001b[0m \u001b[0mnamespace\u001b[0m\u001b[0;34m=\u001b[0m\u001b[0m_SECRET_NAMESPACE\u001b[0m\u001b[0;34m)\u001b[0m\u001b[0;34m\u001b[0m\u001b[0;34m\u001b[0m\u001b[0m\n",
      "\u001b[0;32m/Users/Shared/miniconda3/envs/ptti/lib/python3.8/site-packages/oauth2client/clientsecrets.py\u001b[0m in \u001b[0;36m_loadfile\u001b[0;34m(filename)\u001b[0m\n\u001b[1;32m    122\u001b[0m             \u001b[0mobj\u001b[0m \u001b[0;34m=\u001b[0m \u001b[0mjson\u001b[0m\u001b[0;34m.\u001b[0m\u001b[0mload\u001b[0m\u001b[0;34m(\u001b[0m\u001b[0mfp\u001b[0m\u001b[0;34m)\u001b[0m\u001b[0;34m\u001b[0m\u001b[0;34m\u001b[0m\u001b[0m\n\u001b[1;32m    123\u001b[0m     \u001b[0;32mexcept\u001b[0m \u001b[0mIOError\u001b[0m \u001b[0;32mas\u001b[0m \u001b[0mexc\u001b[0m\u001b[0;34m:\u001b[0m\u001b[0;34m\u001b[0m\u001b[0;34m\u001b[0m\u001b[0m\n\u001b[0;32m--> 124\u001b[0;31m         raise InvalidClientSecretsError('Error opening file', exc.filename,\n\u001b[0m\u001b[1;32m    125\u001b[0m                                         exc.strerror, exc.errno)\n\u001b[1;32m    126\u001b[0m     \u001b[0;32mreturn\u001b[0m \u001b[0m_validate_clientsecrets\u001b[0m\u001b[0;34m(\u001b[0m\u001b[0mobj\u001b[0m\u001b[0;34m)\u001b[0m\u001b[0;34m\u001b[0m\u001b[0;34m\u001b[0m\u001b[0m\n",
      "\u001b[0;31mInvalidClientSecretsError\u001b[0m: ('Error opening file', '/Users/Greg 1/.gdrive_private', 'No such file or directory', 2)"
     ]
    }
   ],
   "source": [
    "spreadsheet_key = '1cf2tMhHL1hxAAg2s0gBRrnMn-a5B7fN2e-s7pafZOBg'\n",
    "wks_name = 'Master'\n",
    "d2g.upload(df, spreadsheet_key, wks_name, credentials=credentials, row_names=True)"
   ]
  },
  {
   "cell_type": "code",
   "execution_count": 46,
   "metadata": {
    "ExecuteTime": {
     "end_time": "2020-04-22T15:52:58.936102Z",
     "start_time": "2020-04-22T15:52:57.196539Z"
    }
   },
   "outputs": [],
   "source": [
    "from df2gspread import df2gspread as d2g"
   ]
  },
  {
   "cell_type": "code",
   "execution_count": null,
   "metadata": {},
   "outputs": [],
   "source": [
    "ServiceAccountCredentials.from_json_keyfile.name('client_secret.json', scope)\n",
    "ServiceAccountCredentials.from_json_keyfile_name('client_secret.json', scope)"
   ]
  }
 ],
 "metadata": {
  "kernelspec": {
   "display_name": "Python 3",
   "language": "python",
   "name": "python3"
  },
  "language_info": {
   "codemirror_mode": {
    "name": "ipython",
    "version": 3
   },
   "file_extension": ".py",
   "mimetype": "text/x-python",
   "name": "python",
   "nbconvert_exporter": "python",
   "pygments_lexer": "ipython3",
   "version": "3.8.2"
  }
 },
 "nbformat": 4,
 "nbformat_minor": 4
}
