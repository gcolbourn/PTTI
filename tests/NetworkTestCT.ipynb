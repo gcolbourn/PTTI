{
 "cells": [
  {
   "cell_type": "code",
   "execution_count": 1,
   "metadata": {},
   "outputs": [],
   "source": [
    "import numpy as np"
   ]
  },
  {
   "cell_type": "code",
   "execution_count": 74,
   "metadata": {},
   "outputs": [
    {
     "name": "stdout",
     "output_type": "stream",
     "text": [
      "Average connections per node: 7.990666666666667\n"
     ]
    }
   ],
   "source": [
    "N = 3000\n",
    "n = 8\n",
    "\n",
    "# Define N nodes\n",
    "nodes = np.arange(N)\n",
    "# Define a link matrix\n",
    "Lmat = np.zeros((N,N))\n",
    "for i in nodes:\n",
    "    avail = list(set(np.arange(N))-set([i]))\n",
    "    li = np.random.choice(avail, size=int(n/2), replace=False)\n",
    "    Lmat[i,li] = 1\n",
    "    Lmat[li,i] = 1\n",
    "    \n",
    "# Average number of connections?\n",
    "print(\"Average connections per node: {0}\".format(np.average(np.sum(Lmat, axis=1))))"
   ]
  },
  {
   "cell_type": "code",
   "execution_count": 75,
   "metadata": {},
   "outputs": [],
   "source": [
    "R0 = 3\n",
    "states = np.zeros(N)\n",
    "\n",
    "# First generation of infected\n",
    "I0 = np.random.choice(np.arange(N), size=10, replace=False)\n",
    "states[I0] = 1\n",
    "\n",
    "# Second generation of infected\n",
    "for i in I0:\n",
    "    links = np.where(Lmat[i])[0]\n",
    "    E = np.random.choice(links, size=R0, replace=False)\n",
    "    states[E] = np.where(states[E] == 0, 2, 1)\n",
    "    \n",
    "# Who has a first generation infected contact?\n",
    "CI = np.where(np.dot(Lmat, np.where(states == 1, 1, 0)))[0]"
   ]
  },
  {
   "cell_type": "code",
   "execution_count": 77,
   "metadata": {},
   "outputs": [
    {
     "name": "stdout",
     "output_type": "stream",
     "text": [
      "Value = simulated (theory)\n",
      "P(I) = 0.004\n",
      "P(E) = 0.008666666666666666\n",
      "P(S) = 0.9873333333333333\n",
      "P(CI | E) = 1.0 (1.0)\n",
      "P(E | CI) = 0.283 (0.2708333333333333)\n",
      "P(CI | S) = 0.021 (0.02)\n",
      "P(S | CI) = 0.663 (0.6170833333333333)\n"
     ]
    }
   ],
   "source": [
    "# Now print statistics\n",
    "\n",
    "I = np.sum(states == 1)\n",
    "E = np.sum(states == 2)\n",
    "S = np.sum(states == 0)\n",
    "\n",
    "print('Value = simulated (theory)')\n",
    "\n",
    "print('P(I) = {0}'.format(I/N))\n",
    "print('P(E) = {0}'.format(E/N))\n",
    "print('P(S) = {0}'.format(S/N))\n",
    "\n",
    "E_CI = np.sum(np.where(states[CI] == 2, 1, 0))\n",
    "CI_E = len(set(CI).intersection(np.where(states == 2)[0]))\n",
    "\n",
    "print('P(CI | E) = {0} (1.0)'.format(CI_E/E))\n",
    "print('P(E | CI) = {0:.3f} ({1})'.format(E_CI/len(CI), E/(n*I)))\n",
    "\n",
    "S_CI = np.sum(np.where(states[CI] == 0, 1, 0))\n",
    "CI_S = len(set(CI).intersection(np.where(states == 0)[0]))\n",
    "\n",
    "print('P(CI | S) = {0:.3f} ({1})'.format(CI_S/S, (n-R0)*I/N))\n",
    "print('P(S | CI) = {0:.3f} ({1})'.format(S_CI/len(CI), (n-R0)/n*S/N))"
   ]
  },
  {
   "cell_type": "code",
   "execution_count": null,
   "metadata": {},
   "outputs": [],
   "source": []
  }
 ],
 "metadata": {
  "kernelspec": {
   "display_name": "Python 3",
   "language": "python",
   "name": "python3"
  },
  "language_info": {
   "codemirror_mode": {
    "name": "ipython",
    "version": 3
   },
   "file_extension": ".py",
   "mimetype": "text/x-python",
   "name": "python",
   "nbconvert_exporter": "python",
   "pygments_lexer": "ipython3",
   "version": "3.6.10"
  }
 },
 "nbformat": 4,
 "nbformat_minor": 4
}
